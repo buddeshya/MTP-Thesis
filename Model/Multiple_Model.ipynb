{
  "nbformat": 4,
  "nbformat_minor": 0,
  "metadata": {
    "colab": {
      "name": "Multiple_Model.ipynb",
      "provenance": [],
      "collapsed_sections": [],
      "machine_shape": "hm"
    },
    "kernelspec": {
      "name": "python3",
      "display_name": "Python 3"
    },
    "accelerator": "GPU"
  },
  "cells": [
    {
      "cell_type": "code",
      "metadata": {
        "id": "zNuSqlRfeNe5",
        "outputId": "00d719c8-6840-40ca-85ec-f05a500a2630",
        "colab": {
          "base_uri": "https://localhost:8080/",
          "height": 34
        }
      },
      "source": [
        "import pandas as pd\n",
        "import numpy as np\n",
        "import re\n",
        "import csv\n",
        "from keras import backend as K"
      ],
      "execution_count": null,
      "outputs": [
        {
          "output_type": "stream",
          "text": [
            "Using TensorFlow backend.\n"
          ],
          "name": "stderr"
        }
      ]
    },
    {
      "cell_type": "code",
      "metadata": {
        "id": "XVOO3-g8eRWE",
        "outputId": "46214b96-229f-4f87-aa5e-a11bddb595d7",
        "colab": {
          "base_uri": "https://localhost:8080/",
          "height": 122
        }
      },
      "source": [
        "import pandas as pd\n",
        "import numpy as np\n",
        "from google.colab import drive\n",
        "drive.mount('/content/gdrive')"
      ],
      "execution_count": null,
      "outputs": [
        {
          "output_type": "stream",
          "text": [
            "Go to this URL in a browser: https://accounts.google.com/o/oauth2/auth?client_id=947318989803-6bn6qk8qdgf4n4g3pfee6491hc0brc4i.apps.googleusercontent.com&redirect_uri=urn%3aietf%3awg%3aoauth%3a2.0%3aoob&response_type=code&scope=email%20https%3a%2f%2fwww.googleapis.com%2fauth%2fdocs.test%20https%3a%2f%2fwww.googleapis.com%2fauth%2fdrive%20https%3a%2f%2fwww.googleapis.com%2fauth%2fdrive.photos.readonly%20https%3a%2f%2fwww.googleapis.com%2fauth%2fpeopleapi.readonly\n",
            "\n",
            "Enter your authorization code:\n",
            "··········\n",
            "Mounted at /content/gdrive\n"
          ],
          "name": "stdout"
        }
      ]
    },
    {
      "cell_type": "code",
      "metadata": {
        "id": "gvcuQZHaeZRm"
      },
      "source": [
        "from pandas import read_csv, DataFrame\n",
        "from numpy.random import seed\n",
        "from sklearn.preprocessing import scale\n",
        "from keras.models import Sequential\n",
        "from keras.constraints import maxnorm\n",
        "from keras.optimizers import SGD\n",
        "from keras.layers import Dense, concatenate\n",
        "from keras.layers.normalization import BatchNormalization\n",
        "from keras.layers import Input, Conv2D, Dense, concatenate\n",
        "from keras.models import Model\n",
        "import os\n",
        "import sys\n",
        "import numpy as np\n",
        "from keras.preprocessing.text import Tokenizer\n",
        "from keras.preprocessing.sequence import pad_sequences\n",
        "from keras.utils import to_categorical\n",
        "from keras.layers import Dense, Input, GlobalMaxPooling1D\n",
        "from keras.layers import Conv1D, MaxPooling1D, Embedding\n",
        "from keras.models import Model\n",
        "from keras.initializers import Constant\n",
        "from keras.layers import merge, recurrent, Dense, Input, Dropout, TimeDistributed, LSTM"
      ],
      "execution_count": null,
      "outputs": []
    },
    {
      "cell_type": "code",
      "metadata": {
        "id": "8cKdSepthNxO"
      },
      "source": [
        "char_to_index = {'M': 0, 'S': 1, 'V': 2, 'E': 3, 'D': 4, 'F': 5, 'I': 6, 'Q': 7, 'P': 8, 'Y': 9, 'T': 10, 'L': 11, 'N': 12, 'R': 13, 'G': 14, 'K': 15, 'C': 16, 'H': 17, 'A': 18, 'W': 19, 'U': 20, 'N': 21, 'X': 22}\n",
        "index_to_char = {0: 'M', 1: 'S', 2: 'V', 3: 'E', 4: 'D', 5: 'F', 6: 'I', 7: 'Q', 8: 'P', 9: 'Y', 10: 'T', 11: 'L', 12: 'N', 13: 'R', 14: 'G', 15: 'K', 16: 'C', 17: 'H', 18: 'A', 19: 'W', 20: 'U', 21: 'N'}\n",
        "n_letters = len(char_to_index)\n",
        "\n",
        "categories = [0, 1]\n",
        "proteins = {}\n",
        "training_data = []\n",
        "val_data = []\n",
        "test_data = []\n",
        "loss_history = []"
      ],
      "execution_count": null,
      "outputs": []
    },
    {
      "cell_type": "code",
      "metadata": {
        "id": "weHKnQOJuk_R"
      },
      "source": [
        "def importData(): \n",
        "  temp = 0\n",
        "  with open(\"gdrive/My Drive/MTP_uddeshya/MTP1/protein_amino_acid_mapping2.txt\") as protein_data:\n",
        "    for line in protein_data:\n",
        "      line = line.strip('\\n')\n",
        "      name_seq_pair = line.split(' ')\n",
        "      proteins[name_seq_pair[0]] = name_seq_pair[1]\n",
        "                                         \n",
        "  protein_data.close()\n",
        "\n",
        "  with open('gdrive/My Drive/MTP_uddeshya/MTP1/train_file2.txt') as train_data:\n",
        "    for line in train_data:\n",
        "      line = line.strip('\\n')\n",
        "      training_data.append(line)\n",
        "      temp = max(temp, len(line))\n",
        "  train_data.close()\n",
        "\n",
        "  with open('gdrive/My Drive/MTP_uddeshya/MTP1/val_file2.txt') as validation_data:\n",
        "    for line in validation_data:\n",
        "      line = line.strip('\\n')\n",
        "      val_data.append(line)\n",
        "      temp = max(temp, len(line))\n",
        "  validation_data.close()\n",
        "\n",
        "  # with open('gdrive/My Drive/MTP_uddeshya/MTP1/test_file2.txt') as testing_data:\n",
        "  #   for line in testing_data:\n",
        "  #     line = line.strip('\\n')\n",
        "  #     test_data.append(line)\n",
        "\n",
        "  # testing_data.close()\n",
        "  return temp"
      ],
      "execution_count": null,
      "outputs": []
    },
    {
      "cell_type": "code",
      "metadata": {
        "id": "ZfGeubl_wah_"
      },
      "source": [
        "inputA = Input(shape=(1200,))\n",
        "inputB = Input(shape=(1200,))\n",
        " \n",
        "# the first branch operates on the first input\n",
        "embedded_sequences = Embedding(23,128)(inputA)\n",
        "x = Conv1D(filters = 64, kernel_size = 10, activation=\"relu\")(embedded_sequences)\n",
        "x = MaxPooling1D(2)(x)\n",
        "x = Conv1D(64, 8, activation='relu')(x)\n",
        "x = MaxPooling1D(2)(x)\n",
        "x = Conv1D(64, 5, activation='relu')(x)\n",
        "x = MaxPooling1D(2)(x)\n",
        "x = LSTM(80)(x)\n",
        "x = Model(inputs=inputA, outputs=x)\n",
        " \n",
        "# the second branch opreates on the second input\n",
        "embedded_sequencesb = Embedding(23,128)(inputB)\n",
        "y = Conv1D(filters = 64, kernel_size = 10, activation=\"relu\")(embedded_sequencesb)\n",
        "y = MaxPooling1D(2)(y)\n",
        "y = Conv1D(64, 8, activation='relu')(y)\n",
        "y = MaxPooling1D(2)(y)\n",
        "y = Conv1D(64, 5, activation='relu')(y)\n",
        "y = MaxPooling1D(2)(y)\n",
        "y = LSTM(80)(y)\n",
        "y = Model(inputs=inputB, outputs=y)\n",
        " \n",
        "# combine the output of the two branches\n",
        "combined = concatenate([x.output, y.output])\n",
        " \n",
        "# apply a FC layer and then a regression prediction on the\n",
        "# combined outputs\n",
        "# z = Dense(2, activation=\"relu\")(combined)\n",
        "z = Dense(1, activation=\"sigmoid\")(combined)\n",
        " \n",
        "# our model will accept the inputs of the two branches and\n",
        "# then output a single value\n",
        "model = Model(inputs=[x.input, y.input], outputs=z)"
      ],
      "execution_count": null,
      "outputs": []
    },
    {
      "cell_type": "code",
      "metadata": {
        "id": "2nJdA__rT27Q"
      },
      "source": [
        "inputA = Input(shape=(1200,))\n",
        "inputB = Input(shape=(1200,))\n",
        " \n",
        "# the first branch operates on the first input\n",
        "embedded_sequences = Embedding(23,128)(inputA)\n",
        "x = Conv1D(filters = 64, kernel_size = 10, activation=\"relu\")(embedded_sequences)\n",
        "x = MaxPooling1D(2)(x)\n",
        "x = Conv1D(64, 5, activation='relu')(x)\n",
        "x = MaxPooling1D(2)(x)\n",
        "x = Conv1D(64, 3, activation='relu')(x)\n",
        "x = MaxPooling1D(2)(x)\n",
        "x = LSTM(80)(x)\n",
        "x = Model(inputs=inputA, outputs=x)\n",
        " \n",
        "# the second branch opreates on the second input\n",
        "embedded_sequencesb = Embedding(23,128)(inputB)\n",
        "y = Conv1D(filters = 64, kernel_size = 10, activation=\"relu\")(embedded_sequencesb)\n",
        "y = MaxPooling1D(2)(y)\n",
        "y = Conv1D(64, 5, activation='relu')(y)\n",
        "y = MaxPooling1D(2)(y)\n",
        "y = Conv1D(64, 3, activation='relu')(y)\n",
        "y = MaxPooling1D(2)(y)\n",
        "y = LSTM(80)(y)\n",
        "y = Model(inputs=inputB, outputs=y)\n",
        " \n",
        "# combine the output of the two branches\n",
        "combined = concatenate([x.output, y.output])\n",
        " \n",
        "# apply a FC layer and then a regression prediction on the\n",
        "# combined outputs\n",
        "# z = Dense(2, activation=\"relu\")(combined)\n",
        "z = Dense(1, activation=\"sigmoid\")(combined)\n",
        " \n",
        "# our model will accept the inputs of the two branches and\n",
        "# then output a single value\n",
        "model = Model(inputs=[x.input, y.input], outputs=z)\n",
        "model.compile(loss='binary_crossentropy', optimizer='adam', metrics=['acc',f1_m,precision_m, recall_m])"
      ],
      "execution_count": null,
      "outputs": []
    },
    {
      "cell_type": "code",
      "metadata": {
        "id": "IYrS4J8yUMJV",
        "outputId": "c7fe9923-bfc2-4a6c-c7a6-f6efb330c19d",
        "colab": {
          "base_uri": "https://localhost:8080/",
          "height": 1000
        }
      },
      "source": [
        "hist = model.fit_generator(get_data(training_data),\n",
        "                    steps_per_epoch=100, validation_data = get_data(val_data), validation_steps = 100, epochs=30)"
      ],
      "execution_count": null,
      "outputs": [
        {
          "output_type": "stream",
          "text": [
            "/usr/local/lib/python3.6/dist-packages/tensorflow/python/framework/indexed_slices.py:434: UserWarning: Converting sparse IndexedSlices to a dense Tensor of unknown shape. This may consume a large amount of memory.\n",
            "  \"Converting sparse IndexedSlices to a dense Tensor of unknown shape. \"\n"
          ],
          "name": "stderr"
        },
        {
          "output_type": "stream",
          "text": [
            "Epoch 1/30\n",
            "100/100 [==============================] - 74s 738ms/step - loss: 0.6875 - acc: 0.5463 - f1_m: 0.3128 - precision_m: 0.6212 - recall_m: 0.2633 - val_loss: 0.6581 - val_acc: 0.5305 - val_f1_m: 0.1189 - val_precision_m: 0.3450 - val_recall_m: 0.0762\n",
            "Epoch 2/30\n",
            "100/100 [==============================] - 74s 737ms/step - loss: 0.6834 - acc: 0.5590 - f1_m: 0.2987 - precision_m: 0.6195 - recall_m: 0.2422 - val_loss: 0.7089 - val_acc: 0.5496 - val_f1_m: 0.2673 - val_precision_m: 0.5182 - val_recall_m: 0.1951\n",
            "Epoch 3/30\n",
            "100/100 [==============================] - 72s 724ms/step - loss: 0.6848 - acc: 0.5488 - f1_m: 0.1427 - precision_m: 0.6869 - recall_m: 0.0830 - val_loss: 0.7257 - val_acc: 0.5529 - val_f1_m: 0.2324 - val_precision_m: 0.5000 - val_recall_m: 0.1619\n",
            "Epoch 4/30\n",
            "100/100 [==============================] - 72s 723ms/step - loss: 0.6865 - acc: 0.5337 - f1_m: 0.1673 - precision_m: 0.6114 - recall_m: 0.1258 - val_loss: 0.6893 - val_acc: 0.5421 - val_f1_m: 0.1546 - val_precision_m: 0.3783 - val_recall_m: 0.1032\n",
            "Epoch 5/30\n",
            "100/100 [==============================] - 72s 723ms/step - loss: 0.6802 - acc: 0.5503 - f1_m: 0.3250 - precision_m: 0.6087 - recall_m: 0.2609 - val_loss: 0.6924 - val_acc: 0.5290 - val_f1_m: 0.2511 - val_precision_m: 0.4358 - val_recall_m: 0.1954\n",
            "Epoch 6/30\n",
            "100/100 [==============================] - 72s 717ms/step - loss: 0.6922 - acc: 0.5238 - f1_m: 0.1140 - precision_m: 0.5489 - recall_m: 0.0657 - val_loss: 0.6685 - val_acc: 0.5289 - val_f1_m: 0.0660 - val_precision_m: 0.2300 - val_recall_m: 0.0393\n",
            "Epoch 7/30\n",
            "100/100 [==============================] - 71s 715ms/step - loss: 0.6882 - acc: 0.5356 - f1_m: 0.2271 - precision_m: 0.5303 - recall_m: 0.1850 - val_loss: 0.7085 - val_acc: 0.5761 - val_f1_m: 0.6164 - val_precision_m: 0.5511 - val_recall_m: 0.7353\n",
            "Epoch 8/30\n",
            "100/100 [==============================] - 72s 717ms/step - loss: 0.6870 - acc: 0.5438 - f1_m: 0.2994 - precision_m: 0.5590 - recall_m: 0.3241 - val_loss: 0.7194 - val_acc: 0.5267 - val_f1_m: 0.1276 - val_precision_m: 0.3350 - val_recall_m: 0.0846\n",
            "Epoch 9/30\n",
            "100/100 [==============================] - 72s 721ms/step - loss: 0.6871 - acc: 0.5376 - f1_m: 0.2630 - precision_m: 0.5686 - recall_m: 0.1824 - val_loss: 0.6644 - val_acc: 0.5498 - val_f1_m: 0.3822 - val_precision_m: 0.5485 - val_recall_m: 0.3274\n",
            "Epoch 10/30\n",
            "100/100 [==============================] - 72s 722ms/step - loss: 0.6826 - acc: 0.5523 - f1_m: 0.3695 - precision_m: 0.5725 - recall_m: 0.2853 - val_loss: 0.6858 - val_acc: 0.5486 - val_f1_m: 0.3395 - val_precision_m: 0.5110 - val_recall_m: 0.2838\n",
            "Epoch 11/30\n",
            "100/100 [==============================] - 72s 724ms/step - loss: 0.6824 - acc: 0.5613 - f1_m: 0.4205 - precision_m: 0.5923 - recall_m: 0.3561 - val_loss: 0.6372 - val_acc: 0.5539 - val_f1_m: 0.2219 - val_precision_m: 0.5283 - val_recall_m: 0.1495\n",
            "Epoch 12/30\n",
            "100/100 [==============================] - 72s 722ms/step - loss: 0.6761 - acc: 0.5811 - f1_m: 0.4975 - precision_m: 0.5915 - recall_m: 0.4511 - val_loss: 0.6465 - val_acc: 0.5874 - val_f1_m: 0.4995 - val_precision_m: 0.6172 - val_recall_m: 0.4698\n",
            "Epoch 13/30\n",
            "100/100 [==============================] - 72s 722ms/step - loss: 0.6766 - acc: 0.5733 - f1_m: 0.4710 - precision_m: 0.5683 - recall_m: 0.4145 - val_loss: 0.6106 - val_acc: 0.5947 - val_f1_m: 0.4182 - val_precision_m: 0.6267 - val_recall_m: 0.3375\n",
            "Epoch 14/30\n",
            "100/100 [==============================] - 72s 724ms/step - loss: 0.6754 - acc: 0.5709 - f1_m: 0.4777 - precision_m: 0.5790 - recall_m: 0.4151 - val_loss: 0.6404 - val_acc: 0.5765 - val_f1_m: 0.4369 - val_precision_m: 0.5822 - val_recall_m: 0.3828\n",
            "Epoch 15/30\n",
            "100/100 [==============================] - 72s 724ms/step - loss: 0.6683 - acc: 0.5888 - f1_m: 0.5065 - precision_m: 0.6000 - recall_m: 0.4518 - val_loss: 0.6953 - val_acc: 0.5845 - val_f1_m: 0.5327 - val_precision_m: 0.5530 - val_recall_m: 0.5506\n",
            "Epoch 16/30\n",
            "100/100 [==============================] - 72s 722ms/step - loss: 0.6573 - acc: 0.5996 - f1_m: 0.5615 - precision_m: 0.6064 - recall_m: 0.5619 - val_loss: 0.6923 - val_acc: 0.5161 - val_f1_m: 0.6432 - val_precision_m: 0.4972 - val_recall_m: 0.9601\n",
            "Epoch 17/30\n",
            "100/100 [==============================] - 72s 717ms/step - loss: 0.6592 - acc: 0.5966 - f1_m: 0.5425 - precision_m: 0.5995 - recall_m: 0.5230 - val_loss: 0.7694 - val_acc: 0.6438 - val_f1_m: 0.6054 - val_precision_m: 0.6536 - val_recall_m: 0.6092\n",
            "Epoch 18/30\n",
            "100/100 [==============================] - 71s 706ms/step - loss: 0.6521 - acc: 0.5960 - f1_m: 0.5325 - precision_m: 0.5842 - recall_m: 0.5261 - val_loss: 0.5533 - val_acc: 0.6218 - val_f1_m: 0.5022 - val_precision_m: 0.6432 - val_recall_m: 0.4462\n",
            "Epoch 19/30\n",
            "100/100 [==============================] - 72s 719ms/step - loss: 0.6215 - acc: 0.6568 - f1_m: 0.6472 - precision_m: 0.6454 - recall_m: 0.6674 - val_loss: 0.6350 - val_acc: 0.6718 - val_f1_m: 0.6694 - val_precision_m: 0.6367 - val_recall_m: 0.7462\n",
            "Epoch 20/30\n",
            "100/100 [==============================] - 72s 717ms/step - loss: 0.6264 - acc: 0.6427 - f1_m: 0.6212 - precision_m: 0.6422 - recall_m: 0.6468 - val_loss: 0.9021 - val_acc: 0.6997 - val_f1_m: 0.6822 - val_precision_m: 0.6582 - val_recall_m: 0.7510\n",
            "Epoch 21/30\n",
            "100/100 [==============================] - 72s 721ms/step - loss: 0.5806 - acc: 0.6965 - f1_m: 0.6869 - precision_m: 0.6901 - recall_m: 0.7076 - val_loss: 0.3445 - val_acc: 0.7315 - val_f1_m: 0.6617 - val_precision_m: 0.7937 - val_recall_m: 0.6019\n",
            "Epoch 22/30\n",
            "100/100 [==============================] - 72s 725ms/step - loss: 0.5301 - acc: 0.7463 - f1_m: 0.7373 - precision_m: 0.7413 - recall_m: 0.7533 - val_loss: 0.5317 - val_acc: 0.7857 - val_f1_m: 0.7779 - val_precision_m: 0.7757 - val_recall_m: 0.8191\n",
            "Epoch 23/30\n",
            "100/100 [==============================] - 72s 725ms/step - loss: 0.4808 - acc: 0.7834 - f1_m: 0.7680 - precision_m: 0.7759 - recall_m: 0.7732 - val_loss: 0.2997 - val_acc: 0.8121 - val_f1_m: 0.7782 - val_precision_m: 0.8473 - val_recall_m: 0.7456\n",
            "Epoch 24/30\n",
            "100/100 [==============================] - 72s 724ms/step - loss: 0.4437 - acc: 0.8167 - f1_m: 0.8050 - precision_m: 0.8209 - recall_m: 0.7997 - val_loss: 0.3731 - val_acc: 0.8308 - val_f1_m: 0.7990 - val_precision_m: 0.8633 - val_recall_m: 0.7736\n",
            "Epoch 25/30\n",
            "100/100 [==============================] - 73s 727ms/step - loss: 0.4074 - acc: 0.8409 - f1_m: 0.8268 - precision_m: 0.8617 - recall_m: 0.8035 - val_loss: 0.7904 - val_acc: 0.8490 - val_f1_m: 0.8303 - val_precision_m: 0.8043 - val_recall_m: 0.8840\n",
            "Epoch 26/30\n",
            "100/100 [==============================] - 72s 725ms/step - loss: 0.3523 - acc: 0.8695 - f1_m: 0.8590 - precision_m: 0.8979 - recall_m: 0.8271 - val_loss: 0.0921 - val_acc: 0.8834 - val_f1_m: 0.8632 - val_precision_m: 0.8999 - val_recall_m: 0.8535\n",
            "Epoch 27/30\n",
            "100/100 [==============================] - 72s 721ms/step - loss: 0.3230 - acc: 0.8820 - f1_m: 0.8724 - precision_m: 0.9092 - recall_m: 0.8432 - val_loss: 0.1052 - val_acc: 0.8952 - val_f1_m: 0.8858 - val_precision_m: 0.9193 - val_recall_m: 0.8684\n",
            "Epoch 28/30\n",
            "100/100 [==============================] - 73s 727ms/step - loss: 0.2706 - acc: 0.9068 - f1_m: 0.8961 - precision_m: 0.9349 - recall_m: 0.8629 - val_loss: 0.2664 - val_acc: 0.8950 - val_f1_m: 0.8699 - val_precision_m: 0.9653 - val_recall_m: 0.8111\n",
            "Epoch 29/30\n",
            "100/100 [==============================] - 73s 728ms/step - loss: 0.2782 - acc: 0.9028 - f1_m: 0.8936 - precision_m: 0.9360 - recall_m: 0.8576 - val_loss: 0.2972 - val_acc: 0.8943 - val_f1_m: 0.8778 - val_precision_m: 0.9356 - val_recall_m: 0.8450\n",
            "Epoch 30/30\n",
            "100/100 [==============================] - 74s 735ms/step - loss: 0.2679 - acc: 0.9064 - f1_m: 0.8975 - precision_m: 0.9430 - recall_m: 0.8589 - val_loss: 0.4961 - val_acc: 0.9121 - val_f1_m: 0.8857 - val_precision_m: 0.9494 - val_recall_m: 0.8491\n"
          ],
          "name": "stdout"
        }
      ]
    },
    {
      "cell_type": "code",
      "metadata": {
        "id": "nXIQkBk8UZVD",
        "outputId": "3764af5a-bbf0-4234-c15c-74801cc3d6f3",
        "colab": {
          "base_uri": "https://localhost:8080/",
          "height": 35
        }
      },
      "source": [
        "history_dict = hist.history\n",
        "history_dict.keys()"
      ],
      "execution_count": null,
      "outputs": [
        {
          "output_type": "execute_result",
          "data": {
            "text/plain": [
              "dict_keys(['val_loss', 'val_acc', 'val_f1_m', 'val_precision_m', 'val_recall_m', 'loss', 'acc', 'f1_m', 'precision_m', 'recall_m'])"
            ]
          },
          "metadata": {
            "tags": []
          },
          "execution_count": 35
        }
      ]
    },
    {
      "cell_type": "code",
      "metadata": {
        "id": "KYRtzLwLXLtq",
        "outputId": "1f6af950-7f2d-49fd-f9cf-4f59690e0e7d",
        "colab": {
          "base_uri": "https://localhost:8080/",
          "height": 35
        }
      },
      "source": [
        "df = pd.DataFrame(val_data, columns=['TEST'])\n",
        "a ,b, y = prepare_data(df)\n",
        "a = pad(a)\n",
        "b = pad(b)\n",
        "Xtest = [a,b]\n",
        "ytest = y\n",
        "loss, accuracy, f1_score, precision, recall = model.evaluate(Xtest, ytest, verbose=0)\n",
        "print(f1_score, precision, recall)"
      ],
      "execution_count": null,
      "outputs": [
        {
          "output_type": "stream",
          "text": [
            "0.900733232498169 0.9628710746765137 0.8523049354553223\n"
          ],
          "name": "stdout"
        }
      ]
    },
    {
      "cell_type": "code",
      "metadata": {
        "id": "tadRVEONU0_1",
        "outputId": "b7ff349d-d8a5-47d7-f43f-51224d0d9fbe",
        "colab": {
          "base_uri": "https://localhost:8080/",
          "height": 279
        }
      },
      "source": [
        "import matplotlib.pyplot as plt\n",
        "%matplotlib inline\n",
        "acc_values = history_dict['acc']\n",
        "val_loss_values = history_dict['val_acc']\n",
        "epochs = range(1, len(acc_values) + 1)\n",
        "\n",
        "plt.plot(epochs, acc_values)\n",
        "plt.xlabel('Epochs')\n",
        "plt.ylabel('Accuracy')\n",
        "\n",
        "plt.show()"
      ],
      "execution_count": null,
      "outputs": [
        {
          "output_type": "display_data",
          "data": {
            "image/png": "[encoded data removed]",
            "text/plain": [
              "<Figure size 432x288 with 1 Axes>"
            ]
          },
          "metadata": {
            "tags": [],
            "needs_background": "light"
          }
        }
      ]
    },
    {
      "cell_type": "code",
      "metadata": {
        "id": "7gaqLl18U_xH",
        "outputId": "03dae461-4670-4411-afce-d4d26825611f",
        "colab": {
          "base_uri": "https://localhost:8080/",
          "height": 279
        }
      },
      "source": [
        "import matplotlib.pyplot as plt\n",
        "%matplotlib inline\n",
        "loss_values = history_dict['loss']\n",
        "val_loss_values = history_dict['val_acc']\n",
        "epochs = range(1, len(loss_values) + 1)\n",
        "\n",
        "plt.plot(epochs, val_loss_values)\n",
        "plt.xlabel('Epochs')\n",
        "plt.ylabel('Loss')\n",
        "\n",
        "plt.show()"
      ],
      "execution_count": null,
      "outputs": [
        {
          "output_type": "display_data",
          "data": {
            "image/png": "[encoded data removed]",
            "text/plain": [
              "<Figure size 432x288 with 1 Axes>"
            ]
          },
          "metadata": {
            "tags": [],
            "needs_background": "light"
          }
        }
      ]
    },
    {
      "cell_type": "code",
      "metadata": {
        "id": "unJ_lxj0x7nq"
      },
      "source": [
        "t = importData()"
      ],
      "execution_count": null,
      "outputs": []
    },
    {
      "cell_type": "code",
      "metadata": {
        "id": "rPscK08BijNR"
      },
      "source": [
        "def get_data(data):\n",
        "  while(True):\n",
        "    df = pd.DataFrame(data, columns=['TEST'])\n",
        "    df_split = np.array_split(df, 500)\n",
        "    for i in range(len(df_split)):\n",
        "      data2 = df_split[i]\n",
        "      a ,b, y = prepare_data(data2)\n",
        "      a = pad(a)\n",
        "      b = pad(b)\n",
        "      x = [a,b]\n",
        "      y = y\n",
        "      yield (x, y)\n",
        "      "
      ],
      "execution_count": null,
      "outputs": []
    },
    {
      "cell_type": "code",
      "metadata": {
        "id": "PrgPAK8l3IeM"
      },
      "source": [
        "def prepare_data(data):\n",
        "  t1 = []\n",
        "  t2 = []\n",
        "  t3 = []\n",
        "  temp = 0\n",
        "  temp2 = 0\n",
        "  #data = np.asarray(data)\n",
        "  data = data.reset_index()\n",
        "  # print(data)\n",
        "  for i in range(len(data)):\n",
        "    t = data['TEST'][i]\n",
        "    #print(t)\n",
        "    r = t.split(\" \")\n",
        "    w = r[0].split(\"-\")\n",
        "    #print(w)\n",
        "    a = re.sub(\"[?]\",\"\",w[0])\n",
        "    b = re.sub(\"[?]\",\"\", w[1])\n",
        "    temp = max(len(proteins[a]), temp)\n",
        "    temp2 = max(len(proteins[b]), temp2)\n",
        "    if len(proteins[a])<=1200 and len(proteins[b])<=1200:\n",
        "      t1.append(proteins[a])\n",
        "      t2.append(proteins[b])\n",
        "      t3.append(int(r[1]))\n",
        "    else:\n",
        "      continue\n",
        "  return t1, t2, t3"
      ],
      "execution_count": null,
      "outputs": []
    },
    {
      "cell_type": "code",
      "metadata": {
        "id": "XOAoUdJLNQw3"
      },
      "source": [
        "def pad(x):\n",
        "  arr = []\n",
        "  count = 0\n",
        "  a = []\n",
        "  for i in x:\n",
        "    m = [23]*1200\n",
        "    count += 1\n",
        "    i = i.upper()\n",
        "    for j in range(len(i)):\n",
        "      m[j] = char_to_index[i[j]]\n",
        "    arr.append(m)\n",
        "  return np.asarray(arr)\n",
        "  \n",
        "  #return arr"
      ],
      "execution_count": null,
      "outputs": []
    },
    {
      "cell_type": "code",
      "metadata": {
        "id": "4cUzNk9Pq0to"
      },
      "source": [
        "model.compile(loss='binary_crossentropy', optimizer='adam', metrics = ['accuracy'])"
      ],
      "execution_count": null,
      "outputs": []
    },
    {
      "cell_type": "code",
      "metadata": {
        "id": "IrxMxsmZlwEp",
        "outputId": "2c31aed9-3283-4297-ad4c-13e0301ed252",
        "colab": {
          "base_uri": "https://localhost:8080/",
          "height": 908
        }
      },
      "source": [
        "model.summary()"
      ],
      "execution_count": null,
      "outputs": [
        {
          "output_type": "stream",
          "text": [
            "Model: \"model_3\"\n",
            "__________________________________________________________________________________________________\n",
            "Layer (type)                    Output Shape         Param #     Connected to                     \n",
            "==================================================================================================\n",
            "input_1 (InputLayer)            (None, 1200)         0                                            \n",
            "__________________________________________________________________________________________________\n",
            "input_2 (InputLayer)            (None, 1200)         0                                            \n",
            "__________________________________________________________________________________________________\n",
            "embedding_1 (Embedding)         (None, 1200, 128)    2944        input_1[0][0]                    \n",
            "__________________________________________________________________________________________________\n",
            "embedding_2 (Embedding)         (None, 1200, 128)    2944        input_2[0][0]                    \n",
            "__________________________________________________________________________________________________\n",
            "conv1d_1 (Conv1D)               (None, 1191, 64)     81984       embedding_1[0][0]                \n",
            "__________________________________________________________________________________________________\n",
            "conv1d_4 (Conv1D)               (None, 1191, 64)     81984       embedding_2[0][0]                \n",
            "__________________________________________________________________________________________________\n",
            "max_pooling1d_1 (MaxPooling1D)  (None, 595, 64)      0           conv1d_1[0][0]                   \n",
            "__________________________________________________________________________________________________\n",
            "max_pooling1d_4 (MaxPooling1D)  (None, 595, 64)      0           conv1d_4[0][0]                   \n",
            "__________________________________________________________________________________________________\n",
            "conv1d_2 (Conv1D)               (None, 591, 64)      20544       max_pooling1d_1[0][0]            \n",
            "__________________________________________________________________________________________________\n",
            "conv1d_5 (Conv1D)               (None, 591, 64)      20544       max_pooling1d_4[0][0]            \n",
            "__________________________________________________________________________________________________\n",
            "max_pooling1d_2 (MaxPooling1D)  (None, 295, 64)      0           conv1d_2[0][0]                   \n",
            "__________________________________________________________________________________________________\n",
            "max_pooling1d_5 (MaxPooling1D)  (None, 295, 64)      0           conv1d_5[0][0]                   \n",
            "__________________________________________________________________________________________________\n",
            "conv1d_3 (Conv1D)               (None, 293, 64)      12352       max_pooling1d_2[0][0]            \n",
            "__________________________________________________________________________________________________\n",
            "conv1d_6 (Conv1D)               (None, 293, 64)      12352       max_pooling1d_5[0][0]            \n",
            "__________________________________________________________________________________________________\n",
            "max_pooling1d_3 (MaxPooling1D)  (None, 146, 64)      0           conv1d_3[0][0]                   \n",
            "__________________________________________________________________________________________________\n",
            "max_pooling1d_6 (MaxPooling1D)  (None, 146, 64)      0           conv1d_6[0][0]                   \n",
            "__________________________________________________________________________________________________\n",
            "lstm_1 (LSTM)                   (None, 80)           46400       max_pooling1d_3[0][0]            \n",
            "__________________________________________________________________________________________________\n",
            "lstm_2 (LSTM)                   (None, 80)           46400       max_pooling1d_6[0][0]            \n",
            "__________________________________________________________________________________________________\n",
            "concatenate_1 (Concatenate)     (None, 160)          0           lstm_1[0][0]                     \n",
            "                                                                 lstm_2[0][0]                     \n",
            "__________________________________________________________________________________________________\n",
            "dense_1 (Dense)                 (None, 1)            161         concatenate_1[0][0]              \n",
            "==================================================================================================\n",
            "Total params: 328,609\n",
            "Trainable params: 328,609\n",
            "Non-trainable params: 0\n",
            "__________________________________________________________________________________________________\n"
          ],
          "name": "stdout"
        }
      ]
    },
    {
      "cell_type": "code",
      "metadata": {
        "id": "yvNdJaLJlyW9",
        "outputId": "b3ad6302-eae8-41f6-a760-6313548bb346",
        "colab": {
          "base_uri": "https://localhost:8080/",
          "height": 1000
        }
      },
      "source": [
        "hist = model.fit_generator(get_data(training_data),\n",
        "                    steps_per_epoch=100, validation_data = get_data(val_data), validation_steps = 100, epochs=30)"
      ],
      "execution_count": null,
      "outputs": [
        {
          "output_type": "stream",
          "text": [
            "/usr/local/lib/python3.6/dist-packages/tensorflow/python/framework/indexed_slices.py:434: UserWarning: Converting sparse IndexedSlices to a dense Tensor of unknown shape. This may consume a large amount of memory.\n",
            "  \"Converting sparse IndexedSlices to a dense Tensor of unknown shape. \"\n"
          ],
          "name": "stderr"
        },
        {
          "output_type": "stream",
          "text": [
            "Epoch 1/30\n",
            "100/100 [==============================] - 78s 781ms/step - loss: 0.6866 - accuracy: 0.5490 - val_loss: 0.6576 - val_accuracy: 0.5386\n",
            "Epoch 2/30\n",
            "100/100 [==============================] - 68s 682ms/step - loss: 0.6675 - accuracy: 0.5883 - val_loss: 0.6426 - val_accuracy: 0.6124\n",
            "Epoch 3/30\n",
            "100/100 [==============================] - 68s 679ms/step - loss: 0.6309 - accuracy: 0.6638 - val_loss: 0.6804 - val_accuracy: 0.6719\n",
            "Epoch 4/30\n",
            "100/100 [==============================] - 69s 686ms/step - loss: 0.6299 - accuracy: 0.6599 - val_loss: 0.6340 - val_accuracy: 0.6727\n",
            "Epoch 5/30\n",
            "100/100 [==============================] - 68s 677ms/step - loss: 0.6364 - accuracy: 0.6359 - val_loss: 0.6769 - val_accuracy: 0.6382\n",
            "Epoch 6/30\n",
            "100/100 [==============================] - 68s 682ms/step - loss: 0.6804 - accuracy: 0.5588 - val_loss: 0.6770 - val_accuracy: 0.5225\n",
            "Epoch 7/30\n",
            "100/100 [==============================] - 68s 684ms/step - loss: 0.6763 - accuracy: 0.5731 - val_loss: 0.7330 - val_accuracy: 0.5963\n",
            "Epoch 8/30\n",
            "100/100 [==============================] - 69s 688ms/step - loss: 0.6774 - accuracy: 0.5483 - val_loss: 0.6711 - val_accuracy: 0.5759\n",
            "Epoch 9/30\n",
            "100/100 [==============================] - 68s 681ms/step - loss: 0.6772 - accuracy: 0.5433 - val_loss: 0.7113 - val_accuracy: 0.5636\n",
            "Epoch 10/30\n",
            "100/100 [==============================] - 68s 681ms/step - loss: 0.6744 - accuracy: 0.5560 - val_loss: 0.7643 - val_accuracy: 0.5691\n",
            "Epoch 11/30\n",
            "100/100 [==============================] - 69s 688ms/step - loss: 0.6743 - accuracy: 0.5645 - val_loss: 0.6808 - val_accuracy: 0.5418\n",
            "Epoch 12/30\n",
            "100/100 [==============================] - 68s 681ms/step - loss: 0.6640 - accuracy: 0.5870 - val_loss: 0.7420 - val_accuracy: 0.5745\n",
            "Epoch 13/30\n",
            "100/100 [==============================] - 68s 682ms/step - loss: 0.6625 - accuracy: 0.5801 - val_loss: 0.6546 - val_accuracy: 0.5800\n",
            "Epoch 14/30\n",
            "100/100 [==============================] - 68s 678ms/step - loss: 0.6685 - accuracy: 0.5701 - val_loss: 0.7059 - val_accuracy: 0.5361\n",
            "Epoch 15/30\n",
            "100/100 [==============================] - 68s 681ms/step - loss: 0.6653 - accuracy: 0.5756 - val_loss: 0.7334 - val_accuracy: 0.5964\n",
            "Epoch 16/30\n",
            "100/100 [==============================] - 68s 679ms/step - loss: 0.6439 - accuracy: 0.6140 - val_loss: 0.5687 - val_accuracy: 0.6190\n",
            "Epoch 17/30\n",
            "100/100 [==============================] - 68s 682ms/step - loss: 0.6550 - accuracy: 0.6114 - val_loss: 0.7386 - val_accuracy: 0.5737\n",
            "Epoch 18/30\n",
            "100/100 [==============================] - 68s 677ms/step - loss: 0.6742 - accuracy: 0.5715 - val_loss: 0.6754 - val_accuracy: 0.5800\n",
            "Epoch 19/30\n",
            "100/100 [==============================] - 67s 674ms/step - loss: 0.6743 - accuracy: 0.5636 - val_loss: 0.6769 - val_accuracy: 0.5773\n",
            "Epoch 20/30\n",
            "100/100 [==============================] - 68s 678ms/step - loss: 0.6515 - accuracy: 0.6081 - val_loss: 0.6331 - val_accuracy: 0.6869\n",
            "Epoch 21/30\n",
            "100/100 [==============================] - 68s 682ms/step - loss: 0.5942 - accuracy: 0.6865 - val_loss: 0.3431 - val_accuracy: 0.6929\n",
            "Epoch 22/30\n",
            "100/100 [==============================] - 68s 675ms/step - loss: 0.5468 - accuracy: 0.7267 - val_loss: 0.4220 - val_accuracy: 0.7583\n",
            "Epoch 23/30\n",
            "100/100 [==============================] - 68s 678ms/step - loss: 0.5158 - accuracy: 0.7641 - val_loss: 0.3820 - val_accuracy: 0.7867\n",
            "Epoch 24/30\n",
            "100/100 [==============================] - 67s 668ms/step - loss: 0.4591 - accuracy: 0.8028 - val_loss: 0.7105 - val_accuracy: 0.8084\n",
            "Epoch 25/30\n",
            "100/100 [==============================] - 67s 673ms/step - loss: 0.4183 - accuracy: 0.8284 - val_loss: 0.3612 - val_accuracy: 0.8567\n",
            "Epoch 26/30\n",
            "100/100 [==============================] - 67s 673ms/step - loss: 0.3826 - accuracy: 0.8523 - val_loss: 0.1652 - val_accuracy: 0.8489\n",
            "Epoch 27/30\n",
            "100/100 [==============================] - 67s 672ms/step - loss: 0.3382 - accuracy: 0.8772 - val_loss: 0.2375 - val_accuracy: 0.8880\n",
            "Epoch 28/30\n",
            "100/100 [==============================] - 67s 672ms/step - loss: 0.3349 - accuracy: 0.8791 - val_loss: 0.1046 - val_accuracy: 0.8802\n",
            "Epoch 29/30\n",
            " 29/100 [=======>......................] - ETA: 42s - loss: 0.3129 - accuracy: 0.8978"
          ],
          "name": "stdout"
        }
      ]
    },
    {
      "cell_type": "code",
      "metadata": {
        "id": "3Y3Hh6wszGGr",
        "outputId": "241e16fd-4920-4206-cb40-2e3d75e6e265",
        "colab": {
          "base_uri": "https://localhost:8080/",
          "height": 34
        }
      },
      "source": [
        "history_dict = hist.history\n",
        "history_dict.keys()"
      ],
      "execution_count": null,
      "outputs": [
        {
          "output_type": "execute_result",
          "data": {
            "text/plain": [
              "dict_keys(['val_loss', 'val_acc', 'loss', 'acc'])"
            ]
          },
          "metadata": {
            "tags": []
          },
          "execution_count": 28
        }
      ]
    },
    {
      "cell_type": "code",
      "metadata": {
        "id": "u1s_7jVJvjH9",
        "outputId": "72d18c25-0517-471c-ded9-073a3c782042",
        "colab": {
          "base_uri": "https://localhost:8080/",
          "height": 279
        }
      },
      "source": [
        "import matplotlib.pyplot as plt\n",
        "%matplotlib inline\n",
        "loss_values = history_dict['acc']\n",
        "val_loss_values = history_dict['val_acc']\n",
        "epochs = range(1, len(loss_values) + 1)\n",
        "\n",
        "plt.plot(epochs, val_loss_values)\n",
        "plt.xlabel('Epochs')\n",
        "plt.ylabel('Loss')\n",
        "\n",
        "plt.show()"
      ],
      "execution_count": null,
      "outputs": [
        {
          "output_type": "display_data",
          "data": {
            "image/png": "[encoded data removed]",
            "text/plain": [
              "<Figure size 432x288 with 1 Axes>"
            ]
          },
          "metadata": {
            "tags": []
          }
        }
      ]
    },
    {
      "cell_type": "code",
      "metadata": {
        "id": "bNj1hExw2VYl"
      },
      "source": [
        "# arr_loss = []\n",
        "# arr_acc = []\n",
        "# arr_loss_val = []\n",
        "# arr_acc_val = []\n",
        "arr_loss_val.append(history_dict['loss'])\n",
        "arr_acc_val.append(history_dict['acc'])\n",
        "arr_loss.append(history_dict['loss'])\n",
        "arr_acc.append(history_dict['acc'])"
      ],
      "execution_count": null,
      "outputs": []
    },
    {
      "cell_type": "code",
      "metadata": {
        "id": "W-KciUPjcIoQ",
        "outputId": "0cd3650e-6220-4b95-f0b6-572fcd2ff884",
        "colab": {
          "base_uri": "https://localhost:8080/",
          "height": 527
        }
      },
      "source": [
        "arr_loss_val.pop()\n",
        "arr_acc_val.pop()\n",
        "arr_loss.pop()\n",
        "arr_acc.pop()"
      ],
      "execution_count": null,
      "outputs": [
        {
          "output_type": "execute_result",
          "data": {
            "text/plain": [
              "[0.5474686451685317,\n",
              " 0.6011571334828051,\n",
              " 0.563066779065724,\n",
              " 0.5109729354311361,\n",
              " 0.5287068007754065,\n",
              " 0.5356587052869128,\n",
              " 0.5395353120082075,\n",
              " 0.5419071188386438,\n",
              " 0.5309985400298126,\n",
              " 0.551003345035346,\n",
              " 0.5515883934210806,\n",
              " 0.56616769666864,\n",
              " 0.5790052240236869,\n",
              " 0.607168985589325,\n",
              " 0.6020995936221857,\n",
              " 0.6037718591198514,\n",
              " 0.56056570842286,\n",
              " 0.6191261295948184,\n",
              " 0.59089246780585,\n",
              " 0.5890932733166045,\n",
              " 0.5648631333764587,\n",
              " 0.6287078678044136,\n",
              " 0.5979664777812912,\n",
              " 0.6420080478370582,\n",
              " 0.6694537325613741,\n",
              " 0.6819555091626541,\n",
              " 0.6953806612311847,\n",
              " 0.7438856843267593,\n",
              " 0.7594184340212846,\n",
              " 0.5441285787224327]"
            ]
          },
          "metadata": {
            "tags": []
          },
          "execution_count": 30
        }
      ]
    },
    {
      "cell_type": "code",
      "metadata": {
        "id": "QOGxbWT24lvE"
      },
      "source": [
        "def make_model(l):\n",
        "  inputA = Input(shape=(1200,))\n",
        "  inputB = Input(shape=(1200,))\n",
        "  \n",
        "  # the first branch operates on the first input\n",
        "  embedded_sequences = Embedding(23,128)(inputA)\n",
        "  x = Conv1D(filters = 64, kernel_size = 10, activation=\"relu\")(embedded_sequences)\n",
        "  x = MaxPooling1D(2)(x)\n",
        "  for _ in range(l):\n",
        "    x = Conv1D(64, 8, activation='relu')(x)\n",
        "    x = MaxPooling1D(2)(x)\n",
        "  # x = Conv1D(64, 5, activation='relu')(x)\n",
        "  # x = MaxPooling1D(2)(x)\n",
        "  x = LSTM(80)(x)\n",
        "  x = Model(inputs=inputA, outputs=x)\n",
        "  \n",
        "  # the second branch opreates on the second input\n",
        "  embedded_sequencesb = Embedding(23,128)(inputB)\n",
        "  y = Conv1D(filters = 64, kernel_size = 10, activation=\"relu\")(embedded_sequencesb)\n",
        "  y = MaxPooling1D(2)(y)\n",
        "  for _ in range(l):\n",
        "    y = Conv1D(64, 8, activation='relu')(y)\n",
        "    y = MaxPooling1D(2)(y)\n",
        "  # y = Conv1D(64, 8, activation='relu')(y)\n",
        "  # y = MaxPooling1D(2)(y)\n",
        "  # y = Conv1D(64, 5, activation='relu')(y)\n",
        "  # y = MaxPooling1D(2)(y)\n",
        "  y = LSTM(80)(y)\n",
        "  y = Model(inputs=inputB, outputs=y)\n",
        "  \n",
        "  # combine the output of the two branches\n",
        "  combined = concatenate([x.output, y.output])\n",
        "  \n",
        "  # apply a FC layer and then a regression prediction on the\n",
        "  # combined outputs\n",
        "  # z = Dense(2, activation=\"relu\")(combined)\n",
        "  z = Dense(1, activation=\"sigmoid\")(combined)\n",
        "  \n",
        "  # our model will accept the inputs of the two branches and\n",
        "  # then output a single value\n",
        "  return Model(inputs=[x.input, y.input], outputs=z)"
      ],
      "execution_count": null,
      "outputs": []
    },
    {
      "cell_type": "code",
      "metadata": {
        "id": "_fLfZ7YMxF_V"
      },
      "source": [
        "def recall_m(y_true, y_pred):\n",
        "        true_positives = K.sum(K.round(K.clip(y_true * y_pred, 0, 1)))\n",
        "        possible_positives = K.sum(K.round(K.clip(y_true, 0, 1)))\n",
        "        recall = true_positives / (possible_positives + K.epsilon())\n",
        "        return recall\n",
        "\n",
        "def precision_m(y_true, y_pred):\n",
        "        true_positives = K.sum(K.round(K.clip(y_true * y_pred, 0, 1)))\n",
        "        predicted_positives = K.sum(K.round(K.clip(y_pred, 0, 1)))\n",
        "        precision = true_positives / (predicted_positives + K.epsilon())\n",
        "        return precision\n",
        "\n",
        "def f1_m(y_true, y_pred):\n",
        "    precision = precision_m(y_true, y_pred)\n",
        "    recall = recall_m(y_true, y_pred)\n",
        "    return 2*((precision*recall)/(precision+recall+K.epsilon()))"
      ],
      "execution_count": null,
      "outputs": []
    },
    {
      "cell_type": "code",
      "metadata": {
        "id": "92IstwZaiDw6",
        "outputId": "a2254c04-0038-4e4a-8220-5f7a8ef3b875",
        "colab": {
          "base_uri": "https://localhost:8080/",
          "height": 1000
        }
      },
      "source": [
        "from keras import backend as K\n",
        "from sklearn.metrics import confusion_matrix\n",
        "arr_loss = []\n",
        "arr_acc = []\n",
        "arr_loss_val = []\n",
        "arr_acc_val = []\n",
        "f1 = []\n",
        "preci = []\n",
        "reca = []\n",
        "conf_mat = []\n",
        "for i in range(0,3):\n",
        "  model = make_model(i)\n",
        "  model.compile(loss='binary_crossentropy', optimizer='adam', metrics=['acc',f1_m,precision_m, recall_m])\n",
        "  print(model.summary())\n",
        "  hist = model.fit_generator(get_data(training_data),steps_per_epoch=100, validation_data = get_data(val_data), validation_steps = 100, epochs=30)\n",
        "  df = pd.DataFrame(val_data, columns=['TEST'])\n",
        "  a ,b, y = prepare_data(df)\n",
        "  a = pad(a)\n",
        "  b = pad(b)\n",
        "  Xtest = [a,b]\n",
        "  ytest = y\n",
        "  loss, accuracy, f1_score, precision, recall = model.evaluate(Xtest, ytest, verbose=0)\n",
        "  y_pred = model.predict(Xtest)\n",
        "  y_t = []\n",
        "  for i in range(len(y_pred)):\n",
        "    if y_pred[i]>=0.5:\n",
        "      y_t.append(1)\n",
        "    else:\n",
        "      y_t.append(0)\n",
        "  conf_mat.append(confusion_matrix(ytest, y_t))\n",
        "  history_dict = hist.history\n",
        "  f1.append(f1_score)\n",
        "  preci.append(precision)\n",
        "  reca.append(recall)\n",
        "  arr_loss_val.append(history_dict['loss'])\n",
        "  arr_acc_val.append(history_dict['acc'])\n",
        "  arr_loss.append(history_dict['loss'])\n",
        "  arr_acc.append(history_dict['acc'])\n",
        "  if i<2:\n",
        "    K.clear_session()"
      ],
      "execution_count": null,
      "outputs": [
        {
          "output_type": "stream",
          "text": [
            "Model: \"model_6\"\n",
            "__________________________________________________________________________________________________\n",
            "Layer (type)                    Output Shape         Param #     Connected to                     \n",
            "==================================================================================================\n",
            "input_3 (InputLayer)            (None, 1200)         0                                            \n",
            "__________________________________________________________________________________________________\n",
            "input_4 (InputLayer)            (None, 1200)         0                                            \n",
            "__________________________________________________________________________________________________\n",
            "embedding_3 (Embedding)         (None, 1200, 128)    2944        input_3[0][0]                    \n",
            "__________________________________________________________________________________________________\n",
            "embedding_4 (Embedding)         (None, 1200, 128)    2944        input_4[0][0]                    \n",
            "__________________________________________________________________________________________________\n",
            "conv1d_5 (Conv1D)               (None, 1191, 64)     81984       embedding_3[0][0]                \n",
            "__________________________________________________________________________________________________\n",
            "conv1d_6 (Conv1D)               (None, 1191, 64)     81984       embedding_4[0][0]                \n",
            "__________________________________________________________________________________________________\n",
            "max_pooling1d_5 (MaxPooling1D)  (None, 595, 64)      0           conv1d_5[0][0]                   \n",
            "__________________________________________________________________________________________________\n",
            "max_pooling1d_6 (MaxPooling1D)  (None, 595, 64)      0           conv1d_6[0][0]                   \n",
            "__________________________________________________________________________________________________\n",
            "lstm_3 (LSTM)                   (None, 80)           46400       max_pooling1d_5[0][0]            \n",
            "__________________________________________________________________________________________________\n",
            "lstm_4 (LSTM)                   (None, 80)           46400       max_pooling1d_6[0][0]            \n",
            "__________________________________________________________________________________________________\n",
            "concatenate_2 (Concatenate)     (None, 160)          0           lstm_3[0][0]                     \n",
            "                                                                 lstm_4[0][0]                     \n",
            "__________________________________________________________________________________________________\n",
            "dense_2 (Dense)                 (None, 1)            161         concatenate_2[0][0]              \n",
            "==================================================================================================\n",
            "Total params: 262,817\n",
            "Trainable params: 262,817\n",
            "Non-trainable params: 0\n",
            "__________________________________________________________________________________________________\n",
            "None\n"
          ],
          "name": "stdout"
        },
        {
          "output_type": "stream",
          "text": [
            "/usr/local/lib/python3.6/dist-packages/tensorflow/python/framework/indexed_slices.py:434: UserWarning: Converting sparse IndexedSlices to a dense Tensor of unknown shape. This may consume a large amount of memory.\n",
            "  \"Converting sparse IndexedSlices to a dense Tensor of unknown shape. \"\n"
          ],
          "name": "stderr"
        },
        {
          "output_type": "stream",
          "text": [
            "Epoch 1/30\n"
          ],
          "name": "stdout"
        },
        {
          "output_type": "error",
          "ename": "ValueError",
          "evalue": "ignored",
          "traceback": [
            "\u001b[0;31m---------------------------------------------------------------------------\u001b[0m",
            "\u001b[0;31mValueError\u001b[0m                                Traceback (most recent call last)",
            "\u001b[0;32m<ipython-input-16-c7aef62714f9>\u001b[0m in \u001b[0;36m<module>\u001b[0;34m()\u001b[0m\n\u001b[1;32m     13\u001b[0m   \u001b[0mmodel\u001b[0m\u001b[0;34m.\u001b[0m\u001b[0mcompile\u001b[0m\u001b[0;34m(\u001b[0m\u001b[0mloss\u001b[0m\u001b[0;34m=\u001b[0m\u001b[0;34m'binary_crossentropy'\u001b[0m\u001b[0;34m,\u001b[0m \u001b[0moptimizer\u001b[0m\u001b[0;34m=\u001b[0m\u001b[0;34m'adam'\u001b[0m\u001b[0;34m,\u001b[0m \u001b[0mmetrics\u001b[0m\u001b[0;34m=\u001b[0m\u001b[0;34m[\u001b[0m\u001b[0;34m'acc'\u001b[0m\u001b[0;34m,\u001b[0m\u001b[0mf1_m\u001b[0m\u001b[0;34m,\u001b[0m\u001b[0mprecision_m\u001b[0m\u001b[0;34m,\u001b[0m \u001b[0mrecall_m\u001b[0m\u001b[0;34m]\u001b[0m\u001b[0;34m)\u001b[0m\u001b[0;34m\u001b[0m\u001b[0;34m\u001b[0m\u001b[0m\n\u001b[1;32m     14\u001b[0m   \u001b[0mprint\u001b[0m\u001b[0;34m(\u001b[0m\u001b[0mmodel\u001b[0m\u001b[0;34m.\u001b[0m\u001b[0msummary\u001b[0m\u001b[0;34m(\u001b[0m\u001b[0;34m)\u001b[0m\u001b[0;34m)\u001b[0m\u001b[0;34m\u001b[0m\u001b[0;34m\u001b[0m\u001b[0m\n\u001b[0;32m---> 15\u001b[0;31m   \u001b[0mhist\u001b[0m \u001b[0;34m=\u001b[0m \u001b[0mmodel\u001b[0m\u001b[0;34m.\u001b[0m\u001b[0mfit_generator\u001b[0m\u001b[0;34m(\u001b[0m\u001b[0mget_data\u001b[0m\u001b[0;34m(\u001b[0m\u001b[0mtraining_data\u001b[0m\u001b[0;34m)\u001b[0m\u001b[0;34m,\u001b[0m\u001b[0msteps_per_epoch\u001b[0m\u001b[0;34m=\u001b[0m\u001b[0;36m100\u001b[0m\u001b[0;34m,\u001b[0m \u001b[0mvalidation_data\u001b[0m \u001b[0;34m=\u001b[0m \u001b[0mget_data\u001b[0m\u001b[0;34m(\u001b[0m\u001b[0mval_data\u001b[0m\u001b[0;34m)\u001b[0m\u001b[0;34m,\u001b[0m \u001b[0mvalidation_steps\u001b[0m \u001b[0;34m=\u001b[0m \u001b[0;36m100\u001b[0m\u001b[0;34m,\u001b[0m \u001b[0mepochs\u001b[0m\u001b[0;34m=\u001b[0m\u001b[0;36m30\u001b[0m\u001b[0;34m)\u001b[0m\u001b[0;34m\u001b[0m\u001b[0;34m\u001b[0m\u001b[0m\n\u001b[0m\u001b[1;32m     16\u001b[0m   \u001b[0mdf\u001b[0m \u001b[0;34m=\u001b[0m \u001b[0mpd\u001b[0m\u001b[0;34m.\u001b[0m\u001b[0mDataFrame\u001b[0m\u001b[0;34m(\u001b[0m\u001b[0mval_data\u001b[0m\u001b[0;34m,\u001b[0m \u001b[0mcolumns\u001b[0m\u001b[0;34m=\u001b[0m\u001b[0;34m[\u001b[0m\u001b[0;34m'TEST'\u001b[0m\u001b[0;34m]\u001b[0m\u001b[0;34m)\u001b[0m\u001b[0;34m\u001b[0m\u001b[0;34m\u001b[0m\u001b[0m\n\u001b[1;32m     17\u001b[0m   \u001b[0ma\u001b[0m \u001b[0;34m,\u001b[0m\u001b[0mb\u001b[0m\u001b[0;34m,\u001b[0m \u001b[0my\u001b[0m \u001b[0;34m=\u001b[0m \u001b[0mprepare_data\u001b[0m\u001b[0;34m(\u001b[0m\u001b[0mdf\u001b[0m\u001b[0;34m)\u001b[0m\u001b[0;34m\u001b[0m\u001b[0;34m\u001b[0m\u001b[0m\n",
            "\u001b[0;32m/usr/local/lib/python3.6/dist-packages/keras/legacy/interfaces.py\u001b[0m in \u001b[0;36mwrapper\u001b[0;34m(*args, **kwargs)\u001b[0m\n\u001b[1;32m     89\u001b[0m                 warnings.warn('Update your `' + object_name + '` call to the ' +\n\u001b[1;32m     90\u001b[0m                               'Keras 2 API: ' + signature, stacklevel=2)\n\u001b[0;32m---> 91\u001b[0;31m             \u001b[0;32mreturn\u001b[0m \u001b[0mfunc\u001b[0m\u001b[0;34m(\u001b[0m\u001b[0;34m*\u001b[0m\u001b[0margs\u001b[0m\u001b[0;34m,\u001b[0m \u001b[0;34m**\u001b[0m\u001b[0mkwargs\u001b[0m\u001b[0;34m)\u001b[0m\u001b[0;34m\u001b[0m\u001b[0;34m\u001b[0m\u001b[0m\n\u001b[0m\u001b[1;32m     92\u001b[0m         \u001b[0mwrapper\u001b[0m\u001b[0;34m.\u001b[0m\u001b[0m_original_function\u001b[0m \u001b[0;34m=\u001b[0m \u001b[0mfunc\u001b[0m\u001b[0;34m\u001b[0m\u001b[0;34m\u001b[0m\u001b[0m\n\u001b[1;32m     93\u001b[0m         \u001b[0;32mreturn\u001b[0m \u001b[0mwrapper\u001b[0m\u001b[0;34m\u001b[0m\u001b[0;34m\u001b[0m\u001b[0m\n",
            "\u001b[0;32m/usr/local/lib/python3.6/dist-packages/keras/engine/training.py\u001b[0m in \u001b[0;36mfit_generator\u001b[0;34m(self, generator, steps_per_epoch, epochs, verbose, callbacks, validation_data, validation_steps, validation_freq, class_weight, max_queue_size, workers, use_multiprocessing, shuffle, initial_epoch)\u001b[0m\n\u001b[1;32m   1730\u001b[0m             \u001b[0muse_multiprocessing\u001b[0m\u001b[0;34m=\u001b[0m\u001b[0muse_multiprocessing\u001b[0m\u001b[0;34m,\u001b[0m\u001b[0;34m\u001b[0m\u001b[0;34m\u001b[0m\u001b[0m\n\u001b[1;32m   1731\u001b[0m             \u001b[0mshuffle\u001b[0m\u001b[0;34m=\u001b[0m\u001b[0mshuffle\u001b[0m\u001b[0;34m,\u001b[0m\u001b[0;34m\u001b[0m\u001b[0;34m\u001b[0m\u001b[0m\n\u001b[0;32m-> 1732\u001b[0;31m             initial_epoch=initial_epoch)\n\u001b[0m\u001b[1;32m   1733\u001b[0m \u001b[0;34m\u001b[0m\u001b[0m\n\u001b[1;32m   1734\u001b[0m     \u001b[0;34m@\u001b[0m\u001b[0minterfaces\u001b[0m\u001b[0;34m.\u001b[0m\u001b[0mlegacy_generator_methods_support\u001b[0m\u001b[0;34m\u001b[0m\u001b[0;34m\u001b[0m\u001b[0m\n",
            "\u001b[0;32m/usr/local/lib/python3.6/dist-packages/keras/engine/training_generator.py\u001b[0m in \u001b[0;36mfit_generator\u001b[0;34m(model, generator, steps_per_epoch, epochs, verbose, callbacks, validation_data, validation_steps, validation_freq, class_weight, max_queue_size, workers, use_multiprocessing, shuffle, initial_epoch)\u001b[0m\n\u001b[1;32m    218\u001b[0m                                             \u001b[0msample_weight\u001b[0m\u001b[0;34m=\u001b[0m\u001b[0msample_weight\u001b[0m\u001b[0;34m,\u001b[0m\u001b[0;34m\u001b[0m\u001b[0;34m\u001b[0m\u001b[0m\n\u001b[1;32m    219\u001b[0m                                             \u001b[0mclass_weight\u001b[0m\u001b[0;34m=\u001b[0m\u001b[0mclass_weight\u001b[0m\u001b[0;34m,\u001b[0m\u001b[0;34m\u001b[0m\u001b[0;34m\u001b[0m\u001b[0m\n\u001b[0;32m--> 220\u001b[0;31m                                             reset_metrics=False)\n\u001b[0m\u001b[1;32m    221\u001b[0m \u001b[0;34m\u001b[0m\u001b[0m\n\u001b[1;32m    222\u001b[0m                 \u001b[0mouts\u001b[0m \u001b[0;34m=\u001b[0m \u001b[0mto_list\u001b[0m\u001b[0;34m(\u001b[0m\u001b[0mouts\u001b[0m\u001b[0;34m)\u001b[0m\u001b[0;34m\u001b[0m\u001b[0;34m\u001b[0m\u001b[0m\n",
            "\u001b[0;32m/usr/local/lib/python3.6/dist-packages/keras/engine/training.py\u001b[0m in \u001b[0;36mtrain_on_batch\u001b[0;34m(self, x, y, sample_weight, class_weight, reset_metrics)\u001b[0m\n\u001b[1;32m   1506\u001b[0m             \u001b[0mx\u001b[0m\u001b[0;34m,\u001b[0m \u001b[0my\u001b[0m\u001b[0;34m,\u001b[0m\u001b[0;34m\u001b[0m\u001b[0;34m\u001b[0m\u001b[0m\n\u001b[1;32m   1507\u001b[0m             \u001b[0msample_weight\u001b[0m\u001b[0;34m=\u001b[0m\u001b[0msample_weight\u001b[0m\u001b[0;34m,\u001b[0m\u001b[0;34m\u001b[0m\u001b[0;34m\u001b[0m\u001b[0m\n\u001b[0;32m-> 1508\u001b[0;31m             class_weight=class_weight)\n\u001b[0m\u001b[1;32m   1509\u001b[0m         \u001b[0;32mif\u001b[0m \u001b[0mself\u001b[0m\u001b[0;34m.\u001b[0m\u001b[0m_uses_dynamic_learning_phase\u001b[0m\u001b[0;34m(\u001b[0m\u001b[0;34m)\u001b[0m\u001b[0;34m:\u001b[0m\u001b[0;34m\u001b[0m\u001b[0;34m\u001b[0m\u001b[0m\n\u001b[1;32m   1510\u001b[0m             \u001b[0mins\u001b[0m \u001b[0;34m=\u001b[0m \u001b[0mx\u001b[0m \u001b[0;34m+\u001b[0m \u001b[0my\u001b[0m \u001b[0;34m+\u001b[0m \u001b[0msample_weights\u001b[0m \u001b[0;34m+\u001b[0m \u001b[0;34m[\u001b[0m\u001b[0;36m1\u001b[0m\u001b[0;34m]\u001b[0m\u001b[0;34m\u001b[0m\u001b[0;34m\u001b[0m\u001b[0m\n",
            "\u001b[0;32m/usr/local/lib/python3.6/dist-packages/keras/engine/training.py\u001b[0m in \u001b[0;36m_standardize_user_data\u001b[0;34m(self, x, y, sample_weight, class_weight, check_array_lengths, batch_size)\u001b[0m\n\u001b[1;32m    577\u001b[0m             \u001b[0mfeed_input_shapes\u001b[0m\u001b[0;34m,\u001b[0m\u001b[0;34m\u001b[0m\u001b[0;34m\u001b[0m\u001b[0m\n\u001b[1;32m    578\u001b[0m             \u001b[0mcheck_batch_axis\u001b[0m\u001b[0;34m=\u001b[0m\u001b[0;32mFalse\u001b[0m\u001b[0;34m,\u001b[0m  \u001b[0;31m# Don't enforce the batch size.\u001b[0m\u001b[0;34m\u001b[0m\u001b[0;34m\u001b[0m\u001b[0m\n\u001b[0;32m--> 579\u001b[0;31m             exception_prefix='input')\n\u001b[0m\u001b[1;32m    580\u001b[0m \u001b[0;34m\u001b[0m\u001b[0m\n\u001b[1;32m    581\u001b[0m         \u001b[0;32mif\u001b[0m \u001b[0my\u001b[0m \u001b[0;32mis\u001b[0m \u001b[0;32mnot\u001b[0m \u001b[0;32mNone\u001b[0m\u001b[0;34m:\u001b[0m\u001b[0;34m\u001b[0m\u001b[0;34m\u001b[0m\u001b[0m\n",
            "\u001b[0;32m/usr/local/lib/python3.6/dist-packages/keras/engine/training_utils.py\u001b[0m in \u001b[0;36mstandardize_input_data\u001b[0;34m(data, names, shapes, check_batch_axis, exception_prefix)\u001b[0m\n\u001b[1;32m    143\u001b[0m                             \u001b[0;34m': expected '\u001b[0m \u001b[0;34m+\u001b[0m \u001b[0mnames\u001b[0m\u001b[0;34m[\u001b[0m\u001b[0mi\u001b[0m\u001b[0;34m]\u001b[0m \u001b[0;34m+\u001b[0m \u001b[0;34m' to have shape '\u001b[0m \u001b[0;34m+\u001b[0m\u001b[0;34m\u001b[0m\u001b[0;34m\u001b[0m\u001b[0m\n\u001b[1;32m    144\u001b[0m                             \u001b[0mstr\u001b[0m\u001b[0;34m(\u001b[0m\u001b[0mshape\u001b[0m\u001b[0;34m)\u001b[0m \u001b[0;34m+\u001b[0m \u001b[0;34m' but got array with shape '\u001b[0m \u001b[0;34m+\u001b[0m\u001b[0;34m\u001b[0m\u001b[0;34m\u001b[0m\u001b[0m\n\u001b[0;32m--> 145\u001b[0;31m                             str(data_shape))\n\u001b[0m\u001b[1;32m    146\u001b[0m     \u001b[0;32mreturn\u001b[0m \u001b[0mdata\u001b[0m\u001b[0;34m\u001b[0m\u001b[0;34m\u001b[0m\u001b[0m\n\u001b[1;32m    147\u001b[0m \u001b[0;34m\u001b[0m\u001b[0m\n",
            "\u001b[0;31mValueError\u001b[0m: Error when checking input: expected input_3 to have shape (1200,) but got array with shape (1,)"
          ]
        }
      ]
    },
    {
      "cell_type": "code",
      "metadata": {
        "id": "J67hLZlPlEEO",
        "outputId": "eb9c2048-0eee-4429-c31d-6574580b7591",
        "colab": {
          "base_uri": "https://localhost:8080/",
          "height": 295
        }
      },
      "source": [
        "import matplotlib.pyplot as plt\n",
        "%matplotlib inline\n",
        "epochs = range(1, 30 + 1)\n",
        "plt.plot(epochs, arr_loss[0], 'b-', label='with one conv layer')\n",
        "plt.plot(epochs, arr_loss[1], 'g-.', label='with 2 conv layer')\n",
        "plt.plot(epochs, arr_loss[2], 'r-', label='with 3 conv layer')\n",
        "plt.title('training loss')\n",
        "plt.ylabel('loss')\n",
        "plt.xlabel('epochs')\n",
        "plt.legend()\n",
        "plt.show()"
      ],
      "execution_count": null,
      "outputs": [
        {
          "output_type": "display_data",
          "data": {
            "image/png": "[encoded data removed]",
            "text/plain": [
              "<Figure size 432x288 with 1 Axes>"
            ]
          },
          "metadata": {
            "tags": []
          }
        }
      ]
    },
    {
      "cell_type": "code",
      "metadata": {
        "id": "cDLVonQ1uMwq",
        "outputId": "adaaedfa-e0a8-473f-c5af-9e9ffdbd9d56",
        "colab": {
          "base_uri": "https://localhost:8080/",
          "height": 295
        }
      },
      "source": [
        "import matplotlib.pyplot as plt\n",
        "%matplotlib inline\n",
        "epochs = range(1, 30 + 1)\n",
        "plt.plot(epochs, arr_acc[0], 'b-', label='with one conv layer')\n",
        "plt.plot(epochs, arr_acc[1], 'g-', label='with 2 conv layer')\n",
        "plt.plot(epochs, arr_acc[2], 'r-', label='with 3 conv layer')\n",
        "plt.title('training accuracy')\n",
        "plt.ylabel('acc')\n",
        "plt.xlabel('epochs')\n",
        "plt.legend()\n",
        "plt.show()"
      ],
      "execution_count": null,
      "outputs": [
        {
          "output_type": "display_data",
          "data": {
            "image/png": "[encoded data removed]",
            "text/plain": [
              "<Figure size 432x288 with 1 Axes>"
            ]
          },
          "metadata": {
            "tags": []
          }
        }
      ]
    },
    {
      "cell_type": "code",
      "metadata": {
        "id": "PxppCd3S1FbF",
        "outputId": "2fa696b1-8606-47ff-917d-cfcc2d57a87d",
        "colab": {
          "base_uri": "https://localhost:8080/",
          "height": 295
        }
      },
      "source": [
        "import matplotlib.pyplot as plt\n",
        "%matplotlib inline\n",
        "epochs = range(1, 30 + 1)\n",
        "plt.plot(epochs, arr_loss_val[0], 'b-', label='with one conv layer')\n",
        "plt.plot(epochs, arr_loss_val[1], 'g-', label='with 2 conv layer')\n",
        "plt.plot(epochs, arr_loss_val[2], 'r-', label='with 3 conv layer')\n",
        "plt.title('validation loss')\n",
        "plt.ylabel('loss')\n",
        "plt.xlabel('epochs')\n",
        "plt.legend()\n",
        "plt.show()"
      ],
      "execution_count": null,
      "outputs": [
        {
          "output_type": "display_data",
          "data": {
            "image/png": "[encoded data removed]",
            "text/plain": [
              "<Figure size 432x288 with 1 Axes>"
            ]
          },
          "metadata": {
            "tags": []
          }
        }
      ]
    },
    {
      "cell_type": "code",
      "metadata": {
        "id": "e0I4g5NN1GIw",
        "outputId": "86d59c4b-6e69-43c3-c1f1-db1d2cfa8b8e",
        "colab": {
          "base_uri": "https://localhost:8080/",
          "height": 295
        }
      },
      "source": [
        "import matplotlib.pyplot as plt\n",
        "%matplotlib inline\n",
        "epochs = range(1, 30 + 1)\n",
        "plt.plot(epochs, arr_acc_val[0], 'b-', label='with one conv layer')\n",
        "plt.plot(epochs, arr_acc_val[1], 'g-', label='with 2 conv layer')\n",
        "plt.plot(epochs, arr_acc_val[2], 'r-', label='with 3 conv layer')\n",
        "plt.title('validation accuracy')\n",
        "plt.ylabel('acc')\n",
        "plt.xlabel('epochs')\n",
        "plt.legend()\n",
        "plt.show()"
      ],
      "execution_count": null,
      "outputs": [
        {
          "output_type": "display_data",
          "data": {
            "image/png": "[encoded data removed]",
            "text/plain": [
              "<Figure size 432x288 with 1 Axes>"
            ]
          },
          "metadata": {
            "tags": []
          }
        }
      ]
    },
    {
      "cell_type": "code",
      "metadata": {
        "id": "zthtKrtm2CHb",
        "outputId": "978d80b8-7bf2-4ef8-d214-ca64aed1972d",
        "colab": {
          "base_uri": "https://localhost:8080/",
          "height": 126
        }
      },
      "source": [
        "print(\"Model 1\")\n",
        "print(\"f1_score: \", f1[0])\n",
        "print(\"precision: \", preci[0])\n",
        "print(\"recall: \", reca[0])\n",
        "print(\"confusion matrix: \" , conf_mat[0])"
      ],
      "execution_count": null,
      "outputs": [
        {
          "output_type": "stream",
          "text": [
            "Model 1\n",
            "f1_score:  0.548113934646379\n",
            "precision:  0.604612387805585\n",
            "recall:  0.5139754549951743\n",
            "confusion matrix:  [[2119  989]\n",
            " [1417 1515]]\n"
          ],
          "name": "stdout"
        }
      ]
    },
    {
      "cell_type": "code",
      "metadata": {
        "id": "kr_oQmzZ92BJ",
        "outputId": "686702e0-5c68-4d36-c3bd-d3330e912468",
        "colab": {
          "base_uri": "https://localhost:8080/",
          "height": 126
        }
      },
      "source": [
        "print(\"Model 2\")\n",
        "print(\"f1_score: \", f1[1])\n",
        "print(\"precision: \", preci[1])\n",
        "print(\"recall: \", reca[1])\n",
        "print(\"confusion matrix: \" , conf_mat[1])"
      ],
      "execution_count": null,
      "outputs": [
        {
          "output_type": "stream",
          "text": [
            "Model 2\n",
            "f1_score:  0.5601294815935046\n",
            "precision:  0.7514022160839561\n",
            "recall:  0.4594546881732562\n",
            "confusion matrix:  [[2658  450]\n",
            " [1578 1354]]\n"
          ],
          "name": "stdout"
        }
      ]
    },
    {
      "cell_type": "code",
      "metadata": {
        "id": "f21gwrw6VbCE",
        "outputId": "d5e19fae-1f81-4e9c-c141-2abbef526c27",
        "colab": {
          "base_uri": "https://localhost:8080/",
          "height": 126
        }
      },
      "source": [
        "print(\"Model 3\")\n",
        "print(\"f1_score: \", f1[2])\n",
        "print(\"precision: \", preci[2])\n",
        "print(\"recall: \", reca[2])\n",
        "print(\"confusion matrix: \" , conf_mat[2])"
      ],
      "execution_count": null,
      "outputs": [
        {
          "output_type": "stream",
          "text": [
            "Model 3\n",
            "f1_score:  0.8619599693658336\n",
            "precision:  0.9385562298313671\n",
            "recall:  0.8037408932944796\n",
            "confusion matrix:  [[2960  148]\n",
            " [ 579 2353]]\n"
          ],
          "name": "stdout"
        }
      ]
    },
    {
      "cell_type": "code",
      "metadata": {
        "id": "SRgTkba_TtA0"
      },
      "source": [
        ""
      ],
      "execution_count": null,
      "outputs": []
    },
    {
      "cell_type": "code",
      "metadata": {
        "id": "U5Tt2mPNYHWx"
      },
      "source": [
        "def make_model(l):\n",
        "  inputA = Input(shape=(1200,))\n",
        "  inputB = Input(shape=(1200,))\n",
        "  \n",
        "  # the first branch operates on the first input\n",
        "  embedded_sequences = Embedding(23,128)(inputA)\n",
        "  x = Conv1D(filters = 64, kernel_size = 10, activation=\"relu\")(embedded_sequences)\n",
        "  x = MaxPooling1D(2)(x)\n",
        "  if l<=2:\n",
        "    m = l\n",
        "    n = 0\n",
        "  else:\n",
        "    m= 2 \n",
        "    n = l-2\n",
        "  for _ in range(n):\n",
        "    y = Conv1D(64, 8, activation='relu')(x)\n",
        "    y = MaxPooling1D(2)(y)\n",
        "  for _ in range(m):\n",
        "    y = Conv1D(64, 5, activation='relu')(x)\n",
        "    y = MaxPooling1D(2)(y)\n",
        "  # x = Conv1D(64, 5, activation='relu')(x)\n",
        "  # x = MaxPooling1D(2)(x)\n",
        "  x = LSTM(80)(x)\n",
        "  x = Model(inputs=inputA, outputs=x)\n",
        "  \n",
        "  # the second branch opreates on the second input\n",
        "  embedded_sequencesb = Embedding(23,128)(inputB)\n",
        "  y = Conv1D(filters = 64, kernel_size = 10, activation=\"relu\")(embedded_sequencesb)\n",
        "  y = MaxPooling1D(2)(y)\n",
        "  if l<=2:\n",
        "    m = l\n",
        "    n = 0\n",
        "  else:\n",
        "    m= 2 \n",
        "    n = l-2\n",
        "  for _ in range(n):\n",
        "    y = Conv1D(64, 8, activation='relu')(y)\n",
        "    y = MaxPooling1D(2)(y)\n",
        "  for _ in range(m):\n",
        "    y = Conv1D(64, 5, activation='relu')(y)\n",
        "    y = MaxPooling1D(2)(y)\n",
        "  # y = Conv1D(64, 8, activation='relu')(y)\n",
        "  # y = MaxPooling1D(2)(y)\n",
        "  # y = Conv1D(64, 5, activation='relu')(y)\n",
        "  # y = MaxPooling1D(2)(y)\n",
        "  y = LSTM(80)(y)\n",
        "  y = Model(inputs=inputB, outputs=y)\n",
        "  \n",
        "  # combine the output of the two branches\n",
        "  combined = concatenate([x.output, y.output])\n",
        "  \n",
        "  # apply a FC layer and then a regression prediction on the\n",
        "  # combined outputs\n",
        "  # z = Dense(2, activation=\"relu\")(combined)\n",
        "  z = Dense(1, activation=\"sigmoid\")(combined)\n",
        "  \n",
        "  # our model will accept the inputs of the two branches and\n",
        "  # then output a single value\n",
        "  return Model(inputs=[x.input, y.input], outputs=z)"
      ],
      "execution_count": null,
      "outputs": []
    },
    {
      "cell_type": "code",
      "metadata": {
        "id": "pf1G759qYHW8"
      },
      "source": [
        "def recall_m(y_true, y_pred):\n",
        "        true_positives = K.sum(K.round(K.clip(y_true * y_pred, 0, 1)))\n",
        "        possible_positives = K.sum(K.round(K.clip(y_true, 0, 1)))\n",
        "        recall = true_positives / (possible_positives + K.epsilon())\n",
        "        return recall\n",
        "\n",
        "def precision_m(y_true, y_pred):\n",
        "        true_positives = K.sum(K.round(K.clip(y_true * y_pred, 0, 1)))\n",
        "        predicted_positives = K.sum(K.round(K.clip(y_pred, 0, 1)))\n",
        "        precision = true_positives / (predicted_positives + K.epsilon())\n",
        "        return precision\n",
        "\n",
        "def f1_m(y_true, y_pred):\n",
        "    precision = precision_m(y_true, y_pred)\n",
        "    recall = recall_m(y_true, y_pred)\n",
        "    return 2*((precision*recall)/(precision+recall+K.epsilon()))"
      ],
      "execution_count": null,
      "outputs": []
    },
    {
      "cell_type": "code",
      "metadata": {
        "id": "vzvJHx5vYHXB"
      },
      "source": [
        "from keras import backend as K\n",
        "from sklearn.metrics import confusion_matrix\n",
        "arr_loss = []\n",
        "arr_acc = []\n",
        "arr_loss_val = []\n",
        "arr_acc_val = []\n",
        "f1 = []\n",
        "preci = []\n",
        "reca = []\n",
        "conf_mat = []\n",
        "for i in range(1,6):\n",
        "  model = make_model(i)\n",
        "  model.compile(loss='binary_crossentropy', optimizer='adam', metrics=['acc',f1_m,precision_m, recall_m])\n",
        "  print(model.summary())\n",
        "  hist = model.fit_generator(get_data(training_data),steps_per_epoch=100, validation_data = get_data(val_data), validation_steps = 100, epochs=30)\n",
        "  df = pd.DataFrame(val_data, columns=['TEST'])\n",
        "  a ,b, y = prepare_data(df)\n",
        "  a = pad(a)\n",
        "  b = pad(b)\n",
        "  Xtest = [a,b]\n",
        "  ytest = y\n",
        "  loss, accuracy, f1_score, precision, recall = model.evaluate(Xtest, ytest, verbose=0)\n",
        "  y_pred = model.predict(Xtest)\n",
        "  y_t = []\n",
        "  for i in range(len(y_pred)):\n",
        "    if y_pred[i]>=0.5:\n",
        "      y_t.append(1)\n",
        "    else:\n",
        "      y_t.append(0)\n",
        "  conf_mat.append(confusion_matrix(ytest, y_t))\n",
        "  history_dict = hist.history\n",
        "  f1.append(f1_score)\n",
        "  preci.append(precision)\n",
        "  reca.append(recall)\n",
        "  arr_loss_val.append(history_dict['loss'])\n",
        "  arr_acc_val.append(history_dict['acc'])\n",
        "  arr_loss.append(history_dict['loss'])\n",
        "  arr_acc.append(history_dict['acc'])\n",
        "  if i<2:\n",
        "    K.clear_session()"
      ],
      "execution_count": null,
      "outputs": []
    },
    {
      "cell_type": "code",
      "metadata": {
        "id": "smdsq5F3YHXG"
      },
      "source": [
        "import matplotlib.pyplot as plt\n",
        "%matplotlib inline\n",
        "epochs = range(1, 30 + 1)\n",
        "plt.plot(epochs, arr_loss[0], 'b-', label='with 1 conv layer')\n",
        "plt.plot(epochs, arr_loss[1], 'g-.', label='with 2 conv layer')\n",
        "plt.plot(epochs, arr_loss[2], 'r-', label='with 3 conv layer')\n",
        "plt.plot(epochs, arr_loss[3], 'y-.', label='with 4 conv layer')\n",
        "plt.plot(epochs, arr_loss[4], 'o-', label='with 5 conv layer')\n",
        "plt.title('training loss')\n",
        "plt.ylabel('loss')\n",
        "plt.xlabel('epochs')\n",
        "plt.legend()\n",
        "plt.show()"
      ],
      "execution_count": null,
      "outputs": []
    },
    {
      "cell_type": "code",
      "metadata": {
        "id": "a8eAy7o4YHXK"
      },
      "source": [
        "import matplotlib.pyplot as plt\n",
        "%matplotlib inline\n",
        "epochs = range(1, 30 + 1)\n",
        "plt.plot(epochs, arr_acc[0], 'b-', label='with 1 conv layer')\n",
        "plt.plot(epochs, arr_acc[1], 'g-', label='with 2 conv layer')\n",
        "plt.plot(epochs, arr_acc[2], 'r-', label='with 3 conv layer')\n",
        "plt.plot(epochs, arr_acc[3], 'y-', label='with 4 conv layer')\n",
        "plt.plot(epochs, arr_acc[4], 'o-', label='with 5 conv layer')\n",
        "plt.title('training accuracy')\n",
        "plt.ylabel('acc')\n",
        "plt.xlabel('epochs')\n",
        "plt.legend()\n",
        "plt.show()"
      ],
      "execution_count": null,
      "outputs": []
    },
    {
      "cell_type": "code",
      "metadata": {
        "id": "w-mKPCvWYHXN"
      },
      "source": [
        "import matplotlib.pyplot as plt\n",
        "%matplotlib inline\n",
        "epochs = range(1, 30 + 1)\n",
        "plt.plot(epochs, arr_loss_val[0], 'b-', label='with one conv layer')\n",
        "plt.plot(epochs, arr_loss_val[1], 'g-', label='with 2 conv layer')\n",
        "plt.plot(epochs, arr_loss_val[2], 'r-', label='with 3 conv layer')\n",
        "plt.plot(epochs, arr_loss_val[3], 'y-', label='with 5 conv layer')\n",
        "plt.plot(epochs, arr_loss_val[4], 'o-', label='with 4 conv layer')\n",
        "plt.title('validation loss')\n",
        "plt.ylabel('loss')\n",
        "plt.xlabel('epochs')\n",
        "plt.legend()\n",
        "plt.show()"
      ],
      "execution_count": null,
      "outputs": []
    },
    {
      "cell_type": "code",
      "metadata": {
        "id": "ZPFdyQqvYHXS"
      },
      "source": [
        "import matplotlib.pyplot as plt\n",
        "%matplotlib inline\n",
        "epochs = range(1, 30 + 1)\n",
        "plt.plot(epochs, arr_acc_val[0], 'b-', label='with one conv layer')\n",
        "plt.plot(epochs, arr_acc_val[1], 'g-', label='with 2 conv layer')\n",
        "plt.plot(epochs, arr_acc_val[2], 'r-', label='with 3 conv layer')\n",
        "plt.plot(epochs, arr_acc_val[3], 'y-', label='with 4 conv layer')\n",
        "plt.plot(epochs, arr_acc_val[4], 'o-', label='with 5 conv layer')\n",
        "plt.title('validation accuracy')\n",
        "plt.ylabel('acc')\n",
        "plt.xlabel('epochs')\n",
        "plt.legend()\n",
        "plt.show()"
      ],
      "execution_count": null,
      "outputs": []
    },
    {
      "cell_type": "code",
      "metadata": {
        "id": "jTlz476ZYHXV"
      },
      "source": [
        "print(\"Model 1\")\n",
        "print(\"f1_score: \", f1[0])\n",
        "print(\"precision: \", preci[0])\n",
        "print(\"recall: \", reca[0])\n",
        "print(\"confusion matrix: \" , conf_mat[0])"
      ],
      "execution_count": null,
      "outputs": []
    },
    {
      "cell_type": "code",
      "metadata": {
        "id": "qLOdhlAyYHXY"
      },
      "source": [
        "print(\"Model 2\")\n",
        "print(\"f1_score: \", f1[1])\n",
        "print(\"precision: \", preci[1])\n",
        "print(\"recall: \", reca[1])\n",
        "print(\"confusion matrix: \" , conf_mat[1])"
      ],
      "execution_count": null,
      "outputs": []
    },
    {
      "cell_type": "code",
      "metadata": {
        "id": "6cVBPje1YHXb"
      },
      "source": [
        "print(\"Model 3\")\n",
        "print(\"f1_score: \", f1[2])\n",
        "print(\"precision: \", preci[2])\n",
        "print(\"recall: \", reca[2])\n",
        "print(\"confusion matrix: \" , conf_mat[2])"
      ],
      "execution_count": null,
      "outputs": []
    },
    {
      "cell_type": "code",
      "metadata": {
        "id": "s44yoAIYYUMN"
      },
      "source": [
        "print(\"Model 4\")\n",
        "print(\"f1_score: \", f1[3])\n",
        "print(\"precision: \", preci[3])\n",
        "print(\"recall: \", reca[3])\n",
        "print(\"confusion matrix: \" , conf_mat[3])"
      ],
      "execution_count": null,
      "outputs": []
    },
    {
      "cell_type": "code",
      "metadata": {
        "id": "23EHw_v-CGtP"
      },
      "source": [
        "print(\"Model 5\")\n",
        "print(\"f1_score: \", f1[4])\n",
        "print(\"precision: \", preci[4])\n",
        "print(\"recall: \", reca[4])\n",
        "print(\"confusion matrix: \" , conf_mat[4])"
      ],
      "execution_count": null,
      "outputs": []
    },
    {
      "cell_type": "code",
      "metadata": {
        "id": "vw3rqSfOCPF6"
      },
      "source": [
        ""
      ],
      "execution_count": null,
      "outputs": []
    }
  ]
}